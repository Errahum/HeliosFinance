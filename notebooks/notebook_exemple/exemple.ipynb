{
 "cells": [
  {
   "cell_type": "markdown",
   "metadata": {},
   "source": [
    "For the name of your project folder, I recommend that you put your name followed by \"research\" or \"analysis\". For example: \"errahum_research\" or \"errahum_analysis\".\n",
    "\n",
    "You can put other subfolders in your main folder. Don't forget to add `+1` to `parent_levels_up` if you use a subfolder. This is for the import of the modules."
   ]
  },
  {
   "cell_type": "markdown",
   "metadata": {},
   "source": [
    "For importing and using the tools, you will need to perform the following imports."
   ]
  },
  {
   "cell_type": "code",
   "execution_count": 1,
   "metadata": {},
   "outputs": [],
   "source": [
    "import numpy as np\n",
    "import matplotlib.pyplot as plt\n",
    "import pandas as pd\n",
    "import sys\n",
    "from pathlib import Path\n",
    "import importlib.util\n",
    "\n",
    "# parents[1] refers to the grandparent directory (one levels up)\n",
    "def dynamic_import(module_name, parent_levels_up=1):\n",
    "    # Get the absolute path to the parent directory\n",
    "    current_dir = Path.cwd()\n",
    "    parent_dir = current_dir.parents[parent_levels_up]\n",
    "    \n",
    "    # Define the path to the module\n",
    "    file_path = parent_dir / 'src' / 'data_management' / f'{module_name}.py'\n",
    "    data_path = parent_dir / 'data'\n",
    "    \n",
    "    # Dynamically import the module\n",
    "    spec = importlib.util.spec_from_file_location(module_name, str(file_path))\n",
    "    module = importlib.util.module_from_spec(spec)\n",
    "    sys.modules[module_name] = module\n",
    "    spec.loader.exec_module(module)\n",
    "    \n",
    "    return module, data_path\n",
    "\n",
    "# Import the notebook_data_tools module\n",
    "notebook_data_tools, data_path = dynamic_import('notebook_data_tools')\n",
    "\n",
    "# Use the imported functions\n",
    "impute_df = notebook_data_tools.impute_df\n",
    "delete_duplicates = notebook_data_tools.delete_duplicates"
   ]
  },
  {
   "cell_type": "code",
   "execution_count": 2,
   "metadata": {},
   "outputs": [
    {
     "name": "stderr",
     "output_type": "stream",
     "text": [
      "C:\\Users\\kimo3\\AppData\\Local\\Temp\\ipykernel_4564\\4173988661.py:4: DtypeWarning: Columns (0) have mixed types. Specify dtype option on import or set low_memory=False.\n",
      "  merged_df = pd.read_csv(data_path / 'processed' / 'merged_df.csv')\n"
     ]
    }
   ],
   "source": [
    "# Your codes here\n",
    "# Exemple of data loading:\n",
    "CL = pd.read_csv(data_path / 'extract_transform' / 'CL=F_1d.csv')\n",
    "merged_df = pd.read_csv(data_path / 'processed' / 'merged_df.csv')"
   ]
  }
 ],
 "metadata": {
  "kernelspec": {
   "display_name": "Python 3",
   "language": "python",
   "name": "python3"
  },
  "language_info": {
   "codemirror_mode": {
    "name": "ipython",
    "version": 3
   },
   "file_extension": ".py",
   "mimetype": "text/x-python",
   "name": "python",
   "nbconvert_exporter": "python",
   "pygments_lexer": "ipython3",
   "version": "3.10.11"
  }
 },
 "nbformat": 4,
 "nbformat_minor": 2
}
