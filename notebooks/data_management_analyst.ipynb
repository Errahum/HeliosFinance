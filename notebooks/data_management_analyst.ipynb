{
 "cells": [
  {
   "cell_type": "code",
   "execution_count": 6,
   "metadata": {},
   "outputs": [],
   "source": [
    "import numpy as np\n",
    "import matplotlib.pyplot as plt\n",
    "import pandas as pd"
   ]
  },
  {
   "cell_type": "code",
   "execution_count": 7,
   "metadata": {},
   "outputs": [
    {
     "data": {
      "text/html": [
       "<div>\n",
       "<style scoped>\n",
       "    .dataframe tbody tr th:only-of-type {\n",
       "        vertical-align: middle;\n",
       "    }\n",
       "\n",
       "    .dataframe tbody tr th {\n",
       "        vertical-align: top;\n",
       "    }\n",
       "\n",
       "    .dataframe thead th {\n",
       "        text-align: right;\n",
       "    }\n",
       "</style>\n",
       "<table border=\"1\" class=\"dataframe\">\n",
       "  <thead>\n",
       "    <tr style=\"text-align: right;\">\n",
       "      <th></th>\n",
       "      <th>Unnamed: 0</th>\n",
       "      <th>Date</th>\n",
       "      <th>Open</th>\n",
       "      <th>High</th>\n",
       "      <th>Low</th>\n",
       "      <th>Close</th>\n",
       "      <th>Adj Close</th>\n",
       "      <th>Volume</th>\n",
       "    </tr>\n",
       "  </thead>\n",
       "  <tbody>\n",
       "    <tr>\n",
       "      <th>0</th>\n",
       "      <td>0</td>\n",
       "      <td>2010-01-04 00:00:00</td>\n",
       "      <td>79.629997</td>\n",
       "      <td>81.680000</td>\n",
       "      <td>79.629997</td>\n",
       "      <td>81.510002</td>\n",
       "      <td>81.510002</td>\n",
       "      <td>263542</td>\n",
       "    </tr>\n",
       "    <tr>\n",
       "      <th>1</th>\n",
       "      <td>1</td>\n",
       "      <td>2010-01-05 00:00:00</td>\n",
       "      <td>81.629997</td>\n",
       "      <td>82.000000</td>\n",
       "      <td>80.949997</td>\n",
       "      <td>81.769997</td>\n",
       "      <td>81.769997</td>\n",
       "      <td>258887</td>\n",
       "    </tr>\n",
       "    <tr>\n",
       "      <th>2</th>\n",
       "      <td>2</td>\n",
       "      <td>2010-01-06 00:00:00</td>\n",
       "      <td>81.430000</td>\n",
       "      <td>83.519997</td>\n",
       "      <td>80.849998</td>\n",
       "      <td>83.180000</td>\n",
       "      <td>83.180000</td>\n",
       "      <td>370059</td>\n",
       "    </tr>\n",
       "    <tr>\n",
       "      <th>3</th>\n",
       "      <td>3</td>\n",
       "      <td>2010-01-07 00:00:00</td>\n",
       "      <td>83.199997</td>\n",
       "      <td>83.360001</td>\n",
       "      <td>82.260002</td>\n",
       "      <td>82.660004</td>\n",
       "      <td>82.660004</td>\n",
       "      <td>246632</td>\n",
       "    </tr>\n",
       "    <tr>\n",
       "      <th>4</th>\n",
       "      <td>4</td>\n",
       "      <td>2010-01-08 00:00:00</td>\n",
       "      <td>82.650002</td>\n",
       "      <td>83.470001</td>\n",
       "      <td>81.800003</td>\n",
       "      <td>82.750000</td>\n",
       "      <td>82.750000</td>\n",
       "      <td>310377</td>\n",
       "    </tr>\n",
       "  </tbody>\n",
       "</table>\n",
       "</div>"
      ],
      "text/plain": [
       "   Unnamed: 0                 Date       Open       High        Low  \\\n",
       "0           0  2010-01-04 00:00:00  79.629997  81.680000  79.629997   \n",
       "1           1  2010-01-05 00:00:00  81.629997  82.000000  80.949997   \n",
       "2           2  2010-01-06 00:00:00  81.430000  83.519997  80.849998   \n",
       "3           3  2010-01-07 00:00:00  83.199997  83.360001  82.260002   \n",
       "4           4  2010-01-08 00:00:00  82.650002  83.470001  81.800003   \n",
       "\n",
       "       Close  Adj Close  Volume  \n",
       "0  81.510002  81.510002  263542  \n",
       "1  81.769997  81.769997  258887  \n",
       "2  83.180000  83.180000  370059  \n",
       "3  82.660004  82.660004  246632  \n",
       "4  82.750000  82.750000  310377  "
      ]
     },
     "execution_count": 7,
     "metadata": {},
     "output_type": "execute_result"
    }
   ],
   "source": [
    "CL = pd.read_csv('../data/extract_transform/CL=F_1d.csv')\n",
    "CL.head()"
   ]
  },
  {
   "cell_type": "code",
   "execution_count": 8,
   "metadata": {},
   "outputs": [
    {
     "data": {
      "text/html": [
       "<div>\n",
       "<style scoped>\n",
       "    .dataframe tbody tr th:only-of-type {\n",
       "        vertical-align: middle;\n",
       "    }\n",
       "\n",
       "    .dataframe tbody tr th {\n",
       "        vertical-align: top;\n",
       "    }\n",
       "\n",
       "    .dataframe thead th {\n",
       "        text-align: right;\n",
       "    }\n",
       "</style>\n",
       "<table border=\"1\" class=\"dataframe\">\n",
       "  <thead>\n",
       "    <tr style=\"text-align: right;\">\n",
       "      <th></th>\n",
       "      <th>Date</th>\n",
       "      <th>Open</th>\n",
       "      <th>High</th>\n",
       "      <th>Low</th>\n",
       "      <th>Close</th>\n",
       "      <th>Adj Close</th>\n",
       "      <th>Volume</th>\n",
       "    </tr>\n",
       "  </thead>\n",
       "  <tbody>\n",
       "    <tr>\n",
       "      <th>0</th>\n",
       "      <td>2010-01-04 00:00:00</td>\n",
       "      <td>79.629997</td>\n",
       "      <td>81.680000</td>\n",
       "      <td>79.629997</td>\n",
       "      <td>81.510002</td>\n",
       "      <td>81.510002</td>\n",
       "      <td>263542</td>\n",
       "    </tr>\n",
       "    <tr>\n",
       "      <th>1</th>\n",
       "      <td>2010-01-05 00:00:00</td>\n",
       "      <td>81.629997</td>\n",
       "      <td>82.000000</td>\n",
       "      <td>80.949997</td>\n",
       "      <td>81.769997</td>\n",
       "      <td>81.769997</td>\n",
       "      <td>258887</td>\n",
       "    </tr>\n",
       "    <tr>\n",
       "      <th>2</th>\n",
       "      <td>2010-01-06 00:00:00</td>\n",
       "      <td>81.430000</td>\n",
       "      <td>83.519997</td>\n",
       "      <td>80.849998</td>\n",
       "      <td>83.180000</td>\n",
       "      <td>83.180000</td>\n",
       "      <td>370059</td>\n",
       "    </tr>\n",
       "    <tr>\n",
       "      <th>3</th>\n",
       "      <td>2010-01-07 00:00:00</td>\n",
       "      <td>83.199997</td>\n",
       "      <td>83.360001</td>\n",
       "      <td>82.260002</td>\n",
       "      <td>82.660004</td>\n",
       "      <td>82.660004</td>\n",
       "      <td>246632</td>\n",
       "    </tr>\n",
       "    <tr>\n",
       "      <th>4</th>\n",
       "      <td>2010-01-08 00:00:00</td>\n",
       "      <td>82.650002</td>\n",
       "      <td>83.470001</td>\n",
       "      <td>81.800003</td>\n",
       "      <td>82.750000</td>\n",
       "      <td>82.750000</td>\n",
       "      <td>310377</td>\n",
       "    </tr>\n",
       "  </tbody>\n",
       "</table>\n",
       "</div>"
      ],
      "text/plain": [
       "                  Date       Open       High        Low      Close  Adj Close  \\\n",
       "0  2010-01-04 00:00:00  79.629997  81.680000  79.629997  81.510002  81.510002   \n",
       "1  2010-01-05 00:00:00  81.629997  82.000000  80.949997  81.769997  81.769997   \n",
       "2  2010-01-06 00:00:00  81.430000  83.519997  80.849998  83.180000  83.180000   \n",
       "3  2010-01-07 00:00:00  83.199997  83.360001  82.260002  82.660004  82.660004   \n",
       "4  2010-01-08 00:00:00  82.650002  83.470001  81.800003  82.750000  82.750000   \n",
       "\n",
       "   Volume  \n",
       "0  263542  \n",
       "1  258887  \n",
       "2  370059  \n",
       "3  246632  \n",
       "4  310377  "
      ]
     },
     "execution_count": 8,
     "metadata": {},
     "output_type": "execute_result"
    }
   ],
   "source": [
    "CL = CL.drop(['Unnamed: 0'], axis=1)\n",
    "CL.head()"
   ]
  },
  {
   "cell_type": "code",
   "execution_count": 9,
   "metadata": {},
   "outputs": [
    {
     "name": "stdout",
     "output_type": "stream",
     "text": [
      "<class 'pandas.core.frame.DataFrame'>\n",
      "RangeIndex: 29397 entries, 0 to 29396\n",
      "Data columns (total 7 columns):\n",
      " #   Column     Non-Null Count  Dtype  \n",
      "---  ------     --------------  -----  \n",
      " 0   Date       29397 non-null  object \n",
      " 1   Open       29397 non-null  float64\n",
      " 2   High       29397 non-null  float64\n",
      " 3   Low        29397 non-null  float64\n",
      " 4   Close      29397 non-null  float64\n",
      " 5   Adj Close  29397 non-null  float64\n",
      " 6   Volume     29397 non-null  int64  \n",
      "dtypes: float64(5), int64(1), object(1)\n",
      "memory usage: 1.6+ MB\n"
     ]
    }
   ],
   "source": [
    "CL.info()"
   ]
  },
  {
   "cell_type": "code",
   "execution_count": 10,
   "metadata": {},
   "outputs": [
    {
     "data": {
      "text/plain": [
       "[<matplotlib.lines.Line2D at 0x1632183eef0>]"
      ]
     },
     "execution_count": 10,
     "metadata": {},
     "output_type": "execute_result"
    },
    {
     "data": {
      "image/png": "[encoded data removed]",
      "text/plain": [
       "<Figure size 640x480 with 1 Axes>"
      ]
     },
     "metadata": {},
     "output_type": "display_data"
    }
   ],
   "source": [
    "plt.plot(CL['Close'])"
   ]
  },
  {
   "cell_type": "code",
   "execution_count": 11,
   "metadata": {},
   "outputs": [
    {
     "data": {
      "text/html": [
       "<div>\n",
       "<style scoped>\n",
       "    .dataframe tbody tr th:only-of-type {\n",
       "        vertical-align: middle;\n",
       "    }\n",
       "\n",
       "    .dataframe tbody tr th {\n",
       "        vertical-align: top;\n",
       "    }\n",
       "\n",
       "    .dataframe thead th {\n",
       "        text-align: right;\n",
       "    }\n",
       "</style>\n",
       "<table border=\"1\" class=\"dataframe\">\n",
       "  <thead>\n",
       "    <tr style=\"text-align: right;\">\n",
       "      <th></th>\n",
       "      <th>Date</th>\n",
       "      <th>Open</th>\n",
       "      <th>High</th>\n",
       "      <th>Low</th>\n",
       "      <th>Close</th>\n",
       "      <th>Adj Close</th>\n",
       "      <th>Volume</th>\n",
       "      <th>Name</th>\n",
       "    </tr>\n",
       "  </thead>\n",
       "  <tbody>\n",
       "    <tr>\n",
       "      <th>0</th>\n",
       "      <td>2010-01-04 00:00:00</td>\n",
       "      <td>3288.0</td>\n",
       "      <td>3311.0</td>\n",
       "      <td>3245.0</td>\n",
       "      <td>3256.0</td>\n",
       "      <td>3256.0</td>\n",
       "      <td>6405</td>\n",
       "      <td>CC=F</td>\n",
       "    </tr>\n",
       "    <tr>\n",
       "      <th>1</th>\n",
       "      <td>2010-01-05 00:00:00</td>\n",
       "      <td>3250.0</td>\n",
       "      <td>3333.0</td>\n",
       "      <td>3246.0</td>\n",
       "      <td>3321.0</td>\n",
       "      <td>3321.0</td>\n",
       "      <td>6831</td>\n",
       "      <td>CC=F</td>\n",
       "    </tr>\n",
       "    <tr>\n",
       "      <th>2</th>\n",
       "      <td>2010-01-06 00:00:00</td>\n",
       "      <td>3300.0</td>\n",
       "      <td>3306.0</td>\n",
       "      <td>3272.0</td>\n",
       "      <td>3292.0</td>\n",
       "      <td>3292.0</td>\n",
       "      <td>6481</td>\n",
       "      <td>CC=F</td>\n",
       "    </tr>\n",
       "    <tr>\n",
       "      <th>3</th>\n",
       "      <td>2010-01-07 00:00:00</td>\n",
       "      <td>3278.0</td>\n",
       "      <td>3313.0</td>\n",
       "      <td>3257.0</td>\n",
       "      <td>3309.0</td>\n",
       "      <td>3309.0</td>\n",
       "      <td>6957</td>\n",
       "      <td>CC=F</td>\n",
       "    </tr>\n",
       "    <tr>\n",
       "      <th>4</th>\n",
       "      <td>2010-01-08 00:00:00</td>\n",
       "      <td>3281.0</td>\n",
       "      <td>3326.0</td>\n",
       "      <td>3281.0</td>\n",
       "      <td>3296.0</td>\n",
       "      <td>3296.0</td>\n",
       "      <td>4606</td>\n",
       "      <td>CC=F</td>\n",
       "    </tr>\n",
       "  </tbody>\n",
       "</table>\n",
       "</div>"
      ],
      "text/plain": [
       "                  Date    Open    High     Low   Close  Adj Close  Volume  \\\n",
       "0  2010-01-04 00:00:00  3288.0  3311.0  3245.0  3256.0     3256.0    6405   \n",
       "1  2010-01-05 00:00:00  3250.0  3333.0  3246.0  3321.0     3321.0    6831   \n",
       "2  2010-01-06 00:00:00  3300.0  3306.0  3272.0  3292.0     3292.0    6481   \n",
       "3  2010-01-07 00:00:00  3278.0  3313.0  3257.0  3309.0     3309.0    6957   \n",
       "4  2010-01-08 00:00:00  3281.0  3326.0  3281.0  3296.0     3296.0    4606   \n",
       "\n",
       "   Name  \n",
       "0  CC=F  \n",
       "1  CC=F  \n",
       "2  CC=F  \n",
       "3  CC=F  \n",
       "4  CC=F  "
      ]
     },
     "execution_count": 11,
     "metadata": {},
     "output_type": "execute_result"
    }
   ],
   "source": [
    "merged_df = pd.read_csv('../data/processed/merged_df.csv')\n",
    "merged_df.head()"
   ]
  },
  {
   "cell_type": "code",
   "execution_count": 12,
   "metadata": {},
   "outputs": [
    {
     "data": {
      "text/plain": [
       "array(['CC=F', 'CL=F', 'CT=F', 'GC=F', 'HG=F', 'HO=F', 'KC=F', 'MCD=F',\n",
       "       'NG=F', 'OJ=F', 'PA=F', 'PL=F', 'RB=F', 'SB=F', 'SI=F', 'SPY',\n",
       "       'ZC=F', 'ZM=F', 'ZS=F', 'ZW=F'], dtype=object)"
      ]
     },
     "execution_count": 12,
     "metadata": {},
     "output_type": "execute_result"
    }
   ],
   "source": [
    "merged_df['Name'].unique()"
   ]
  },
  {
   "cell_type": "code",
   "execution_count": 17,
   "metadata": {},
   "outputs": [
    {
     "data": {
      "text/plain": [
       "[<matplotlib.lines.Line2D at 0x16323d7c670>]"
      ]
     },
     "execution_count": 17,
     "metadata": {},
     "output_type": "execute_result"
    },
    {
     "data": {
      "image/png": "[encoded data removed]",
      "text/plain": [
       "<Figure size 640x480 with 1 Axes>"
      ]
     },
     "metadata": {},
     "output_type": "display_data"
    }
   ],
   "source": [
    "plt.plot(merged_df.loc[merged_df['Name'] == 'CL=F', 'Close'])"
   ]
  },
  {
   "cell_type": "code",
   "execution_count": 18,
   "metadata": {},
   "outputs": [
    {
     "name": "stdout",
     "output_type": "stream",
     "text": [
      "<class 'pandas.core.frame.DataFrame'>\n",
      "RangeIndex: 591104 entries, 0 to 591103\n",
      "Data columns (total 8 columns):\n",
      " #   Column     Non-Null Count   Dtype  \n",
      "---  ------     --------------   -----  \n",
      " 0   Date       591104 non-null  object \n",
      " 1   Open       591104 non-null  float64\n",
      " 2   High       591104 non-null  float64\n",
      " 3   Low        591104 non-null  float64\n",
      " 4   Close      591104 non-null  float64\n",
      " 5   Adj Close  591104 non-null  float64\n",
      " 6   Volume     591104 non-null  int64  \n",
      " 7   Name       591104 non-null  object \n",
      "dtypes: float64(5), int64(1), object(2)\n",
      "memory usage: 36.1+ MB\n"
     ]
    }
   ],
   "source": [
    "merged_df.info()"
   ]
  }
 ],
 "metadata": {
  "kernelspec": {
   "display_name": "Python 3",
   "language": "python",
   "name": "python3"
  },
  "language_info": {
   "codemirror_mode": {
    "name": "ipython",
    "version": 3
   },
   "file_extension": ".py",
   "mimetype": "text/x-python",
   "name": "python",
   "nbconvert_exporter": "python",
   "pygments_lexer": "ipython3",
   "version": "3.10.11"
  }
 },
 "nbformat": 4,
 "nbformat_minor": 2
}
