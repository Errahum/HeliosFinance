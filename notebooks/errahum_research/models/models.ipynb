{
 "cells": [
  {
   "cell_type": "markdown",
   "metadata": {},
   "source": [
    "Created by Errahum https://github.com/Errahum\n",
    "\n",
    "Linkedin: https://www.linkedin.com/in/erahum/\n",
    "\n",
    "Mail: mail@erahum.com\n",
    "\n",
    "Youtube: https://www.youtube.com/@Errahum\n",
    "\n",
    "### Objective:\n",
    "Surpass the random walk"
   ]
  },
  {
   "cell_type": "markdown",
   "metadata": {},
   "source": [
    "# Data Processing"
   ]
  },
  {
   "cell_type": "code",
   "execution_count": 15,
   "metadata": {},
   "outputs": [],
   "source": [
    "import numpy as np\n",
    "import matplotlib.pyplot as plt\n",
    "import pandas as pd\n",
    "import sys\n",
    "from pathlib import Path\n",
    "import importlib.util\n",
    "\n",
    "# parents[2] refers to the grandparent directory (two levels up)\n",
    "def dynamic_import(module_name, parent_levels_up=2):\n",
    "    # Get the absolute path to the parent directory\n",
    "    current_dir = Path.cwd()\n",
    "    parent_dir = current_dir.parents[parent_levels_up]\n",
    "    \n",
    "    # Define the path to the module\n",
    "    file_path = parent_dir / 'src' / 'data_management' / f'{module_name}.py'\n",
    "    data_path = parent_dir / 'data'\n",
    "    \n",
    "    # Dynamically import the module\n",
    "    spec = importlib.util.spec_from_file_location(module_name, str(file_path))\n",
    "    module = importlib.util.module_from_spec(spec)\n",
    "    sys.modules[module_name] = module\n",
    "    spec.loader.exec_module(module)\n",
    "    \n",
    "    return module, data_path\n",
    "\n",
    "# Import the notebook_data_tools module\n",
    "notebook_data_tools, data_path = dynamic_import('notebook_data_tools')\n",
    "\n",
    "# Use the imported functions\n",
    "impute_df = notebook_data_tools.impute_df\n",
    "delete_duplicates = notebook_data_tools.delete_duplicates\n",
    "log_return_df = notebook_data_tools.log_return_df\n",
    "drop_negative_values = notebook_data_tools.drop_negative_values"
   ]
  },
  {
   "cell_type": "code",
   "execution_count": 16,
   "metadata": {},
   "outputs": [
    {
     "data": {
      "text/html": [
       "<div>\n",
       "<style scoped>\n",
       "    .dataframe tbody tr th:only-of-type {\n",
       "        vertical-align: middle;\n",
       "    }\n",
       "\n",
       "    .dataframe tbody tr th {\n",
       "        vertical-align: top;\n",
       "    }\n",
       "\n",
       "    .dataframe thead th {\n",
       "        text-align: right;\n",
       "    }\n",
       "</style>\n",
       "<table border=\"1\" class=\"dataframe\">\n",
       "  <thead>\n",
       "    <tr style=\"text-align: right;\">\n",
       "      <th></th>\n",
       "      <th>Open</th>\n",
       "      <th>High</th>\n",
       "      <th>Low</th>\n",
       "      <th>Close</th>\n",
       "      <th>Adj Close</th>\n",
       "      <th>Volume</th>\n",
       "    </tr>\n",
       "    <tr>\n",
       "      <th>Date</th>\n",
       "      <th></th>\n",
       "      <th></th>\n",
       "      <th></th>\n",
       "      <th></th>\n",
       "      <th></th>\n",
       "      <th></th>\n",
       "    </tr>\n",
       "  </thead>\n",
       "  <tbody>\n",
       "    <tr>\n",
       "      <th>2010-01-04</th>\n",
       "      <td>79.629997</td>\n",
       "      <td>81.680000</td>\n",
       "      <td>79.629997</td>\n",
       "      <td>81.510002</td>\n",
       "      <td>81.510002</td>\n",
       "      <td>263542</td>\n",
       "    </tr>\n",
       "    <tr>\n",
       "      <th>2010-01-05</th>\n",
       "      <td>81.629997</td>\n",
       "      <td>82.000000</td>\n",
       "      <td>80.949997</td>\n",
       "      <td>81.769997</td>\n",
       "      <td>81.769997</td>\n",
       "      <td>258887</td>\n",
       "    </tr>\n",
       "    <tr>\n",
       "      <th>2010-01-06</th>\n",
       "      <td>81.430000</td>\n",
       "      <td>83.519997</td>\n",
       "      <td>80.849998</td>\n",
       "      <td>83.180000</td>\n",
       "      <td>83.180000</td>\n",
       "      <td>370059</td>\n",
       "    </tr>\n",
       "    <tr>\n",
       "      <th>2010-01-07</th>\n",
       "      <td>83.199997</td>\n",
       "      <td>83.360001</td>\n",
       "      <td>82.260002</td>\n",
       "      <td>82.660004</td>\n",
       "      <td>82.660004</td>\n",
       "      <td>246632</td>\n",
       "    </tr>\n",
       "    <tr>\n",
       "      <th>2010-01-08</th>\n",
       "      <td>82.650002</td>\n",
       "      <td>83.470001</td>\n",
       "      <td>81.800003</td>\n",
       "      <td>82.750000</td>\n",
       "      <td>82.750000</td>\n",
       "      <td>310377</td>\n",
       "    </tr>\n",
       "  </tbody>\n",
       "</table>\n",
       "</div>"
      ],
      "text/plain": [
       "                 Open       High        Low      Close  Adj Close  Volume\n",
       "Date                                                                     \n",
       "2010-01-04  79.629997  81.680000  79.629997  81.510002  81.510002  263542\n",
       "2010-01-05  81.629997  82.000000  80.949997  81.769997  81.769997  258887\n",
       "2010-01-06  81.430000  83.519997  80.849998  83.180000  83.180000  370059\n",
       "2010-01-07  83.199997  83.360001  82.260002  82.660004  82.660004  246632\n",
       "2010-01-08  82.650002  83.470001  81.800003  82.750000  82.750000  310377"
      ]
     },
     "execution_count": 16,
     "metadata": {},
     "output_type": "execute_result"
    }
   ],
   "source": [
    "CL = pd.read_csv(data_path / 'extract_transform' / 'CL=F_1d.csv', index_col='Date', parse_dates=True)\n",
    "CL = CL.drop(['Unnamed: 0'], axis=1)\n",
    "CL = impute_df(CL)\n",
    "CL = delete_duplicates(CL)\n",
    "CL.head()"
   ]
  },
  {
   "cell_type": "code",
   "execution_count": 17,
   "metadata": {},
   "outputs": [
    {
     "name": "stdout",
     "output_type": "stream",
     "text": [
      "<class 'pandas.core.frame.DataFrame'>\n",
      "DatetimeIndex: 3687 entries, 2010-01-04 to 2024-08-28\n",
      "Data columns (total 6 columns):\n",
      " #   Column     Non-Null Count  Dtype  \n",
      "---  ------     --------------  -----  \n",
      " 0   Open       3687 non-null   float64\n",
      " 1   High       3687 non-null   float64\n",
      " 2   Low        3687 non-null   float64\n",
      " 3   Close      3687 non-null   float64\n",
      " 4   Adj Close  3687 non-null   float64\n",
      " 5   Volume     3687 non-null   int64  \n",
      "dtypes: float64(5), int64(1)\n",
      "memory usage: 330.7 KB\n"
     ]
    }
   ],
   "source": [
    "CL.info()"
   ]
  },
  {
   "cell_type": "code",
   "execution_count": 18,
   "metadata": {},
   "outputs": [
    {
     "data": {
      "text/html": [
       "<div>\n",
       "<style scoped>\n",
       "    .dataframe tbody tr th:only-of-type {\n",
       "        vertical-align: middle;\n",
       "    }\n",
       "\n",
       "    .dataframe tbody tr th {\n",
       "        vertical-align: top;\n",
       "    }\n",
       "\n",
       "    .dataframe thead th {\n",
       "        text-align: right;\n",
       "    }\n",
       "</style>\n",
       "<table border=\"1\" class=\"dataframe\">\n",
       "  <thead>\n",
       "    <tr style=\"text-align: right;\">\n",
       "      <th></th>\n",
       "      <th>Open</th>\n",
       "      <th>High</th>\n",
       "      <th>Low</th>\n",
       "      <th>Close</th>\n",
       "      <th>Adj Close</th>\n",
       "      <th>Volume</th>\n",
       "    </tr>\n",
       "    <tr>\n",
       "      <th>Date</th>\n",
       "      <th></th>\n",
       "      <th></th>\n",
       "      <th></th>\n",
       "      <th></th>\n",
       "      <th></th>\n",
       "      <th></th>\n",
       "    </tr>\n",
       "  </thead>\n",
       "  <tbody>\n",
       "    <tr>\n",
       "      <th>2010-01-04</th>\n",
       "      <td>79.629997</td>\n",
       "      <td>81.680000</td>\n",
       "      <td>79.629997</td>\n",
       "      <td>81.510002</td>\n",
       "      <td>81.510002</td>\n",
       "      <td>263542</td>\n",
       "    </tr>\n",
       "    <tr>\n",
       "      <th>2010-01-05</th>\n",
       "      <td>81.629997</td>\n",
       "      <td>82.000000</td>\n",
       "      <td>80.949997</td>\n",
       "      <td>81.769997</td>\n",
       "      <td>81.769997</td>\n",
       "      <td>258887</td>\n",
       "    </tr>\n",
       "    <tr>\n",
       "      <th>2010-01-06</th>\n",
       "      <td>81.430000</td>\n",
       "      <td>83.519997</td>\n",
       "      <td>80.849998</td>\n",
       "      <td>83.180000</td>\n",
       "      <td>83.180000</td>\n",
       "      <td>370059</td>\n",
       "    </tr>\n",
       "    <tr>\n",
       "      <th>2010-01-07</th>\n",
       "      <td>83.199997</td>\n",
       "      <td>83.360001</td>\n",
       "      <td>82.260002</td>\n",
       "      <td>82.660004</td>\n",
       "      <td>82.660004</td>\n",
       "      <td>246632</td>\n",
       "    </tr>\n",
       "    <tr>\n",
       "      <th>2010-01-08</th>\n",
       "      <td>82.650002</td>\n",
       "      <td>83.470001</td>\n",
       "      <td>81.800003</td>\n",
       "      <td>82.750000</td>\n",
       "      <td>82.750000</td>\n",
       "      <td>310377</td>\n",
       "    </tr>\n",
       "  </tbody>\n",
       "</table>\n",
       "</div>"
      ],
      "text/plain": [
       "                 Open       High        Low      Close  Adj Close  Volume\n",
       "Date                                                                     \n",
       "2010-01-04  79.629997  81.680000  79.629997  81.510002  81.510002  263542\n",
       "2010-01-05  81.629997  82.000000  80.949997  81.769997  81.769997  258887\n",
       "2010-01-06  81.430000  83.519997  80.849998  83.180000  83.180000  370059\n",
       "2010-01-07  83.199997  83.360001  82.260002  82.660004  82.660004  246632\n",
       "2010-01-08  82.650002  83.470001  81.800003  82.750000  82.750000  310377"
      ]
     },
     "execution_count": 18,
     "metadata": {},
     "output_type": "execute_result"
    }
   ],
   "source": [
    "CL.head()"
   ]
  },
  {
   "cell_type": "code",
   "execution_count": 19,
   "metadata": {},
   "outputs": [],
   "source": [
    "def negative(df):\n",
    "    negative_values = df[df['Close'] < 0]['Close']\n",
    "    if not negative_values.empty:\n",
    "        print(\"There are negatives:\")\n",
    "        print(negative_values)\n",
    "    else:\n",
    "        print(\"no negatives.\")"
   ]
  },
  {
   "cell_type": "code",
   "execution_count": 20,
   "metadata": {},
   "outputs": [
    {
     "name": "stdout",
     "output_type": "stream",
     "text": [
      "no negatives.\n"
     ]
    }
   ],
   "source": [
    "CL = delete_duplicates(CL)\n",
    "CL = drop_negative_values(CL)\n",
    "negative(CL)\n",
    "CL['log_return'] = log_return_df(CL['Close'])"
   ]
  },
  {
   "cell_type": "code",
   "execution_count": 21,
   "metadata": {},
   "outputs": [
    {
     "data": {
      "text/plain": [
       "1"
      ]
     },
     "execution_count": 21,
     "metadata": {},
     "output_type": "execute_result"
    }
   ],
   "source": [
    "CL.isna().sum().sum()"
   ]
  },
  {
   "cell_type": "code",
   "execution_count": 22,
   "metadata": {},
   "outputs": [
    {
     "data": {
      "text/html": [
       "<div>\n",
       "<style scoped>\n",
       "    .dataframe tbody tr th:only-of-type {\n",
       "        vertical-align: middle;\n",
       "    }\n",
       "\n",
       "    .dataframe tbody tr th {\n",
       "        vertical-align: top;\n",
       "    }\n",
       "\n",
       "    .dataframe thead th {\n",
       "        text-align: right;\n",
       "    }\n",
       "</style>\n",
       "<table border=\"1\" class=\"dataframe\">\n",
       "  <thead>\n",
       "    <tr style=\"text-align: right;\">\n",
       "      <th></th>\n",
       "      <th>Open</th>\n",
       "      <th>High</th>\n",
       "      <th>Low</th>\n",
       "      <th>Close</th>\n",
       "      <th>Adj Close</th>\n",
       "      <th>Volume</th>\n",
       "      <th>log_return</th>\n",
       "    </tr>\n",
       "    <tr>\n",
       "      <th>Date</th>\n",
       "      <th></th>\n",
       "      <th></th>\n",
       "      <th></th>\n",
       "      <th></th>\n",
       "      <th></th>\n",
       "      <th></th>\n",
       "      <th></th>\n",
       "    </tr>\n",
       "  </thead>\n",
       "  <tbody>\n",
       "    <tr>\n",
       "      <th>2010-01-04</th>\n",
       "      <td>79.629997</td>\n",
       "      <td>81.680000</td>\n",
       "      <td>79.629997</td>\n",
       "      <td>81.510002</td>\n",
       "      <td>81.510002</td>\n",
       "      <td>263542</td>\n",
       "      <td>NaN</td>\n",
       "    </tr>\n",
       "    <tr>\n",
       "      <th>2010-01-05</th>\n",
       "      <td>81.629997</td>\n",
       "      <td>82.000000</td>\n",
       "      <td>80.949997</td>\n",
       "      <td>81.769997</td>\n",
       "      <td>81.769997</td>\n",
       "      <td>258887</td>\n",
       "      <td>0.003185</td>\n",
       "    </tr>\n",
       "    <tr>\n",
       "      <th>2010-01-06</th>\n",
       "      <td>81.430000</td>\n",
       "      <td>83.519997</td>\n",
       "      <td>80.849998</td>\n",
       "      <td>83.180000</td>\n",
       "      <td>83.180000</td>\n",
       "      <td>370059</td>\n",
       "      <td>0.017097</td>\n",
       "    </tr>\n",
       "    <tr>\n",
       "      <th>2010-01-07</th>\n",
       "      <td>83.199997</td>\n",
       "      <td>83.360001</td>\n",
       "      <td>82.260002</td>\n",
       "      <td>82.660004</td>\n",
       "      <td>82.660004</td>\n",
       "      <td>246632</td>\n",
       "      <td>-0.006271</td>\n",
       "    </tr>\n",
       "    <tr>\n",
       "      <th>2010-01-08</th>\n",
       "      <td>82.650002</td>\n",
       "      <td>83.470001</td>\n",
       "      <td>81.800003</td>\n",
       "      <td>82.750000</td>\n",
       "      <td>82.750000</td>\n",
       "      <td>310377</td>\n",
       "      <td>0.001088</td>\n",
       "    </tr>\n",
       "  </tbody>\n",
       "</table>\n",
       "</div>"
      ],
      "text/plain": [
       "                 Open       High        Low      Close  Adj Close  Volume  \\\n",
       "Date                                                                        \n",
       "2010-01-04  79.629997  81.680000  79.629997  81.510002  81.510002  263542   \n",
       "2010-01-05  81.629997  82.000000  80.949997  81.769997  81.769997  258887   \n",
       "2010-01-06  81.430000  83.519997  80.849998  83.180000  83.180000  370059   \n",
       "2010-01-07  83.199997  83.360001  82.260002  82.660004  82.660004  246632   \n",
       "2010-01-08  82.650002  83.470001  81.800003  82.750000  82.750000  310377   \n",
       "\n",
       "            log_return  \n",
       "Date                    \n",
       "2010-01-04         NaN  \n",
       "2010-01-05    0.003185  \n",
       "2010-01-06    0.017097  \n",
       "2010-01-07   -0.006271  \n",
       "2010-01-08    0.001088  "
      ]
     },
     "execution_count": 22,
     "metadata": {},
     "output_type": "execute_result"
    }
   ],
   "source": [
    "CL.head()"
   ]
  },
  {
   "cell_type": "code",
   "execution_count": 23,
   "metadata": {},
   "outputs": [
    {
     "data": {
      "text/plain": [
       "<Axes: xlabel='Date'>"
      ]
     },
     "execution_count": 23,
     "metadata": {},
     "output_type": "execute_result"
    },
    {
     "data": {
      "image/png": "[encoded data removed]",
      "text/plain": [
       "<Figure size 640x480 with 1 Axes>"
      ]
     },
     "metadata": {},
     "output_type": "display_data"
    }
   ],
   "source": [
    "CL['log_return'].plot()"
   ]
  },
  {
   "cell_type": "markdown",
   "metadata": {},
   "source": [
    "# Model"
   ]
  }
 ],
 "metadata": {
  "kernelspec": {
   "display_name": "Python 3",
   "language": "python",
   "name": "python3"
  },
  "language_info": {
   "codemirror_mode": {
    "name": "ipython",
    "version": 3
   },
   "file_extension": ".py",
   "mimetype": "text/x-python",
   "name": "python",
   "nbconvert_exporter": "python",
   "pygments_lexer": "ipython3",
   "version": "3.10.2"
  }
 },
 "nbformat": 4,
 "nbformat_minor": 2
}
