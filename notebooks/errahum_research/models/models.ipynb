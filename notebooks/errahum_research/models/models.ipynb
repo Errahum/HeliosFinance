{
 "cells": [
  {
   "cell_type": "markdown",
   "metadata": {},
   "source": [
    "Created by Errahum https://github.com/Errahum\n",
    "\n",
    "Linkedin: https://www.linkedin.com/in/erahum/\n",
    "\n",
    "Mail: mail@erahum.com\n",
    "\n",
    "Youtube: https://www.youtube.com/@Errahum\n",
    "\n",
    "### Objective:\n",
    "Surpass the random walk"
   ]
  },
  {
   "cell_type": "markdown",
   "metadata": {},
   "source": [
    "# Data Processing"
   ]
  },
  {
   "cell_type": "code",
   "execution_count": 33,
   "metadata": {},
   "outputs": [],
   "source": [
    "import numpy as np\n",
    "import matplotlib.pyplot as plt\n",
    "import pandas as pd\n",
    "import sys\n",
    "from pathlib import Path\n",
    "import importlib.util\n",
    "\n",
    "# parents[2] refers to the grandparent directory (two levels up)\n",
    "def dynamic_import(module_name, parent_levels_up=2):\n",
    "    # Get the absolute path to the parent directory\n",
    "    current_dir = Path.cwd()\n",
    "    parent_dir = current_dir.parents[parent_levels_up]\n",
    "    \n",
    "    # Define the path to the module\n",
    "    file_path = parent_dir / 'src' / 'data_management' / f'{module_name}.py'\n",
    "    data_path = parent_dir / 'data'\n",
    "    \n",
    "    # Dynamically import the module\n",
    "    spec = importlib.util.spec_from_file_location(module_name, str(file_path))\n",
    "    module = importlib.util.module_from_spec(spec)\n",
    "    sys.modules[module_name] = module\n",
    "    spec.loader.exec_module(module)\n",
    "    \n",
    "    return module, data_path\n",
    "\n",
    "# Import the notebook_data_tools module\n",
    "notebook_data_tools, data_path = dynamic_import('notebook_data_tools')\n",
    "\n",
    "# Use the imported functions\n",
    "impute_df = notebook_data_tools.impute_df\n",
    "delete_duplicates = notebook_data_tools.delete_duplicates\n",
    "log_return_df = notebook_data_tools.log_return_df\n",
    "drop_negative_values = notebook_data_tools.drop_negative_values"
   ]
  },
  {
   "cell_type": "code",
   "execution_count": 34,
   "metadata": {},
   "outputs": [
    {
     "data": {
      "text/html": [
       "<div>\n",
       "<style scoped>\n",
       "    .dataframe tbody tr th:only-of-type {\n",
       "        vertical-align: middle;\n",
       "    }\n",
       "\n",
       "    .dataframe tbody tr th {\n",
       "        vertical-align: top;\n",
       "    }\n",
       "\n",
       "    .dataframe thead th {\n",
       "        text-align: right;\n",
       "    }\n",
       "</style>\n",
       "<table border=\"1\" class=\"dataframe\">\n",
       "  <thead>\n",
       "    <tr style=\"text-align: right;\">\n",
       "      <th></th>\n",
       "      <th>Date</th>\n",
       "      <th>Open</th>\n",
       "      <th>High</th>\n",
       "      <th>Low</th>\n",
       "      <th>Close</th>\n",
       "      <th>Adj Close</th>\n",
       "      <th>Volume</th>\n",
       "    </tr>\n",
       "  </thead>\n",
       "  <tbody>\n",
       "    <tr>\n",
       "      <th>0</th>\n",
       "      <td>2010-01-04</td>\n",
       "      <td>79.629997</td>\n",
       "      <td>81.680000</td>\n",
       "      <td>79.629997</td>\n",
       "      <td>81.510002</td>\n",
       "      <td>81.510002</td>\n",
       "      <td>263542</td>\n",
       "    </tr>\n",
       "    <tr>\n",
       "      <th>1</th>\n",
       "      <td>2010-01-05</td>\n",
       "      <td>81.629997</td>\n",
       "      <td>82.000000</td>\n",
       "      <td>80.949997</td>\n",
       "      <td>81.769997</td>\n",
       "      <td>81.769997</td>\n",
       "      <td>258887</td>\n",
       "    </tr>\n",
       "    <tr>\n",
       "      <th>2</th>\n",
       "      <td>2010-01-06</td>\n",
       "      <td>81.430000</td>\n",
       "      <td>83.519997</td>\n",
       "      <td>80.849998</td>\n",
       "      <td>83.180000</td>\n",
       "      <td>83.180000</td>\n",
       "      <td>370059</td>\n",
       "    </tr>\n",
       "    <tr>\n",
       "      <th>3</th>\n",
       "      <td>2010-01-07</td>\n",
       "      <td>83.199997</td>\n",
       "      <td>83.360001</td>\n",
       "      <td>82.260002</td>\n",
       "      <td>82.660004</td>\n",
       "      <td>82.660004</td>\n",
       "      <td>246632</td>\n",
       "    </tr>\n",
       "    <tr>\n",
       "      <th>4</th>\n",
       "      <td>2010-01-08</td>\n",
       "      <td>82.650002</td>\n",
       "      <td>83.470001</td>\n",
       "      <td>81.800003</td>\n",
       "      <td>82.750000</td>\n",
       "      <td>82.750000</td>\n",
       "      <td>310377</td>\n",
       "    </tr>\n",
       "  </tbody>\n",
       "</table>\n",
       "</div>"
      ],
      "text/plain": [
       "         Date       Open       High        Low      Close  Adj Close  Volume\n",
       "0  2010-01-04  79.629997  81.680000  79.629997  81.510002  81.510002  263542\n",
       "1  2010-01-05  81.629997  82.000000  80.949997  81.769997  81.769997  258887\n",
       "2  2010-01-06  81.430000  83.519997  80.849998  83.180000  83.180000  370059\n",
       "3  2010-01-07  83.199997  83.360001  82.260002  82.660004  82.660004  246632\n",
       "4  2010-01-08  82.650002  83.470001  81.800003  82.750000  82.750000  310377"
      ]
     },
     "execution_count": 34,
     "metadata": {},
     "output_type": "execute_result"
    }
   ],
   "source": [
    "CL = pd.read_csv(data_path / 'extract_transform' / 'CL=F_1d.csv')\n",
    "CL = CL.drop(['Unnamed: 0'], axis=1)\n",
    "CL = impute_df(CL)\n",
    "CL = delete_duplicates(CL)\n",
    "CL.head()"
   ]
  },
  {
   "cell_type": "code",
   "execution_count": 35,
   "metadata": {},
   "outputs": [
    {
     "data": {
      "text/plain": [
       "0"
      ]
     },
     "execution_count": 35,
     "metadata": {},
     "output_type": "execute_result"
    }
   ],
   "source": [
    "CL['Date'].duplicated().sum()"
   ]
  },
  {
   "cell_type": "code",
   "execution_count": 36,
   "metadata": {},
   "outputs": [
    {
     "data": {
      "text/html": [
       "<div>\n",
       "<style scoped>\n",
       "    .dataframe tbody tr th:only-of-type {\n",
       "        vertical-align: middle;\n",
       "    }\n",
       "\n",
       "    .dataframe tbody tr th {\n",
       "        vertical-align: top;\n",
       "    }\n",
       "\n",
       "    .dataframe thead th {\n",
       "        text-align: right;\n",
       "    }\n",
       "</style>\n",
       "<table border=\"1\" class=\"dataframe\">\n",
       "  <thead>\n",
       "    <tr style=\"text-align: right;\">\n",
       "      <th></th>\n",
       "      <th>Date</th>\n",
       "      <th>Open</th>\n",
       "      <th>High</th>\n",
       "      <th>Low</th>\n",
       "      <th>Close</th>\n",
       "      <th>Adj Close</th>\n",
       "      <th>Volume</th>\n",
       "    </tr>\n",
       "  </thead>\n",
       "  <tbody>\n",
       "    <tr>\n",
       "      <th>0</th>\n",
       "      <td>2010-01-04</td>\n",
       "      <td>79.629997</td>\n",
       "      <td>81.680000</td>\n",
       "      <td>79.629997</td>\n",
       "      <td>81.510002</td>\n",
       "      <td>81.510002</td>\n",
       "      <td>263542</td>\n",
       "    </tr>\n",
       "    <tr>\n",
       "      <th>1</th>\n",
       "      <td>2010-01-05</td>\n",
       "      <td>81.629997</td>\n",
       "      <td>82.000000</td>\n",
       "      <td>80.949997</td>\n",
       "      <td>81.769997</td>\n",
       "      <td>81.769997</td>\n",
       "      <td>258887</td>\n",
       "    </tr>\n",
       "    <tr>\n",
       "      <th>2</th>\n",
       "      <td>2010-01-06</td>\n",
       "      <td>81.430000</td>\n",
       "      <td>83.519997</td>\n",
       "      <td>80.849998</td>\n",
       "      <td>83.180000</td>\n",
       "      <td>83.180000</td>\n",
       "      <td>370059</td>\n",
       "    </tr>\n",
       "    <tr>\n",
       "      <th>3</th>\n",
       "      <td>2010-01-07</td>\n",
       "      <td>83.199997</td>\n",
       "      <td>83.360001</td>\n",
       "      <td>82.260002</td>\n",
       "      <td>82.660004</td>\n",
       "      <td>82.660004</td>\n",
       "      <td>246632</td>\n",
       "    </tr>\n",
       "    <tr>\n",
       "      <th>4</th>\n",
       "      <td>2010-01-08</td>\n",
       "      <td>82.650002</td>\n",
       "      <td>83.470001</td>\n",
       "      <td>81.800003</td>\n",
       "      <td>82.750000</td>\n",
       "      <td>82.750000</td>\n",
       "      <td>310377</td>\n",
       "    </tr>\n",
       "  </tbody>\n",
       "</table>\n",
       "</div>"
      ],
      "text/plain": [
       "        Date       Open       High        Low      Close  Adj Close  Volume\n",
       "0 2010-01-04  79.629997  81.680000  79.629997  81.510002  81.510002  263542\n",
       "1 2010-01-05  81.629997  82.000000  80.949997  81.769997  81.769997  258887\n",
       "2 2010-01-06  81.430000  83.519997  80.849998  83.180000  83.180000  370059\n",
       "3 2010-01-07  83.199997  83.360001  82.260002  82.660004  82.660004  246632\n",
       "4 2010-01-08  82.650002  83.470001  81.800003  82.750000  82.750000  310377"
      ]
     },
     "execution_count": 36,
     "metadata": {},
     "output_type": "execute_result"
    }
   ],
   "source": [
    "CL['Date'] = pd.to_datetime(CL['Date'], format='mixed')\n",
    "CL.set_index('Date')\n",
    "CL.head()"
   ]
  },
  {
   "cell_type": "code",
   "execution_count": 37,
   "metadata": {},
   "outputs": [
    {
     "data": {
      "text/plain": [
       "0"
      ]
     },
     "execution_count": 37,
     "metadata": {},
     "output_type": "execute_result"
    }
   ],
   "source": [
    "CL.index.duplicated().sum()"
   ]
  },
  {
   "cell_type": "code",
   "execution_count": 38,
   "metadata": {},
   "outputs": [
    {
     "data": {
      "text/plain": [
       "array([False, False, False, ..., False, False, False])"
      ]
     },
     "execution_count": 38,
     "metadata": {},
     "output_type": "execute_result"
    }
   ],
   "source": [
    "CL.index.duplicated()"
   ]
  },
  {
   "cell_type": "code",
   "execution_count": 39,
   "metadata": {},
   "outputs": [
    {
     "name": "stdout",
     "output_type": "stream",
     "text": [
      "<class 'pandas.core.frame.DataFrame'>\n",
      "RangeIndex: 3694 entries, 0 to 3693\n",
      "Data columns (total 7 columns):\n",
      " #   Column     Non-Null Count  Dtype         \n",
      "---  ------     --------------  -----         \n",
      " 0   Date       3694 non-null   datetime64[ns]\n",
      " 1   Open       3694 non-null   float64       \n",
      " 2   High       3694 non-null   float64       \n",
      " 3   Low        3694 non-null   float64       \n",
      " 4   Close      3694 non-null   float64       \n",
      " 5   Adj Close  3694 non-null   float64       \n",
      " 6   Volume     3694 non-null   int64         \n",
      "dtypes: datetime64[ns](1), float64(5), int64(1)\n",
      "memory usage: 202.1 KB\n"
     ]
    }
   ],
   "source": [
    "CL.info()"
   ]
  },
  {
   "cell_type": "code",
   "execution_count": 40,
   "metadata": {},
   "outputs": [],
   "source": [
    "def negative(df):\n",
    "    negative_values = df[df['Close'] < 0]['Close']\n",
    "    if not negative_values.empty:\n",
    "        print(\"There are negatives:\")\n",
    "        print(negative_values)\n",
    "    else:\n",
    "        print(\"no negatives.\")\n"
   ]
  },
  {
   "cell_type": "code",
   "execution_count": 41,
   "metadata": {},
   "outputs": [
    {
     "name": "stdout",
     "output_type": "stream",
     "text": [
      "no negatives.\n"
     ]
    }
   ],
   "source": [
    "CL = delete_duplicates(CL)\n",
    "CL = drop_negative_values(CL)\n",
    "negative(CL)\n",
    "CL['log_return'] = log_return_df(CL['Close'])\n",
    "CL = pd.DataFrame(CL['log_return'])"
   ]
  },
  {
   "cell_type": "code",
   "execution_count": 42,
   "metadata": {},
   "outputs": [
    {
     "data": {
      "text/plain": [
       "1"
      ]
     },
     "execution_count": 42,
     "metadata": {},
     "output_type": "execute_result"
    }
   ],
   "source": [
    "CL.isna().sum().sum()"
   ]
  },
  {
   "cell_type": "code",
   "execution_count": 43,
   "metadata": {},
   "outputs": [
    {
     "data": {
      "text/html": [
       "<div>\n",
       "<style scoped>\n",
       "    .dataframe tbody tr th:only-of-type {\n",
       "        vertical-align: middle;\n",
       "    }\n",
       "\n",
       "    .dataframe tbody tr th {\n",
       "        vertical-align: top;\n",
       "    }\n",
       "\n",
       "    .dataframe thead th {\n",
       "        text-align: right;\n",
       "    }\n",
       "</style>\n",
       "<table border=\"1\" class=\"dataframe\">\n",
       "  <thead>\n",
       "    <tr style=\"text-align: right;\">\n",
       "      <th></th>\n",
       "      <th>log_return</th>\n",
       "    </tr>\n",
       "  </thead>\n",
       "  <tbody>\n",
       "    <tr>\n",
       "      <th>0</th>\n",
       "      <td>NaN</td>\n",
       "    </tr>\n",
       "    <tr>\n",
       "      <th>1</th>\n",
       "      <td>0.003185</td>\n",
       "    </tr>\n",
       "    <tr>\n",
       "      <th>2</th>\n",
       "      <td>0.017097</td>\n",
       "    </tr>\n",
       "    <tr>\n",
       "      <th>3</th>\n",
       "      <td>-0.006271</td>\n",
       "    </tr>\n",
       "    <tr>\n",
       "      <th>4</th>\n",
       "      <td>0.001088</td>\n",
       "    </tr>\n",
       "  </tbody>\n",
       "</table>\n",
       "</div>"
      ],
      "text/plain": [
       "   log_return\n",
       "0         NaN\n",
       "1    0.003185\n",
       "2    0.017097\n",
       "3   -0.006271\n",
       "4    0.001088"
      ]
     },
     "execution_count": 43,
     "metadata": {},
     "output_type": "execute_result"
    }
   ],
   "source": [
    "CL.head()"
   ]
  },
  {
   "cell_type": "code",
   "execution_count": 44,
   "metadata": {},
   "outputs": [
    {
     "data": {
      "text/plain": [
       "<Axes: >"
      ]
     },
     "execution_count": 44,
     "metadata": {},
     "output_type": "execute_result"
    },
    {
     "data": {
      "image/png": "[encoded data removed]",
      "text/plain": [
       "<Figure size 640x480 with 1 Axes>"
      ]
     },
     "metadata": {},
     "output_type": "display_data"
    }
   ],
   "source": [
    "CL['log_return'].plot()"
   ]
  },
  {
   "cell_type": "markdown",
   "metadata": {},
   "source": [
    "# Model"
   ]
  }
 ],
 "metadata": {
  "kernelspec": {
   "display_name": "Python 3",
   "language": "python",
   "name": "python3"
  },
  "language_info": {
   "codemirror_mode": {
    "name": "ipython",
    "version": 3
   },
   "file_extension": ".py",
   "mimetype": "text/x-python",
   "name": "python",
   "nbconvert_exporter": "python",
   "pygments_lexer": "ipython3",
   "version": "3.10.2"
  }
 },
 "nbformat": 4,
 "nbformat_minor": 2
}
