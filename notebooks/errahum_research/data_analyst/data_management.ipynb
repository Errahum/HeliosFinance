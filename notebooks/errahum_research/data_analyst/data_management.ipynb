{
 "cells": [
  {
   "cell_type": "markdown",
   "metadata": {},
   "source": [
    "Created by Errahum https://github.com/Errahum\n",
    "\n",
    "Linkedin: https://www.linkedin.com/in/erahum/\n",
    "\n",
    "Mail: mail@erahum.com\n",
    "\n",
    "Youtube: https://www.youtube.com/@Errahum"
   ]
  },
  {
   "cell_type": "code",
   "execution_count": 1,
   "metadata": {},
   "outputs": [],
   "source": [
    "import numpy as np\n",
    "import matplotlib.pyplot as plt\n",
    "import pandas as pd\n",
    "import sys\n",
    "from pathlib import Path\n",
    "import importlib.util\n",
    "\n",
    "# parents[2] refers to the grandparent directory (two levels up)\n",
    "def dynamic_import(module_name, parent_levels_up=2):\n",
    "    # Get the absolute path to the parent directory\n",
    "    current_dir = Path.cwd()\n",
    "    parent_dir = current_dir.parents[parent_levels_up]\n",
    "    \n",
    "    # Define the path to the module\n",
    "    file_path = parent_dir / 'src' / 'data_management' / f'{module_name}.py'\n",
    "    data_path = parent_dir / 'data'\n",
    "    \n",
    "    # Dynamically import the module\n",
    "    spec = importlib.util.spec_from_file_location(module_name, str(file_path))\n",
    "    module = importlib.util.module_from_spec(spec)\n",
    "    sys.modules[module_name] = module\n",
    "    spec.loader.exec_module(module)\n",
    "    \n",
    "    return module, data_path\n",
    "\n",
    "# Import the notebook_data_tools module\n",
    "notebook_data_tools, data_path = dynamic_import('notebook_data_tools')\n",
    "\n",
    "# Use the imported functions\n",
    "impute_df = notebook_data_tools.impute_df\n",
    "delete_duplicates = notebook_data_tools.delete_duplicates"
   ]
  },
  {
   "cell_type": "code",
   "execution_count": 2,
   "metadata": {},
   "outputs": [
    {
     "data": {
      "text/html": [
       "<div>\n",
       "<style scoped>\n",
       "    .dataframe tbody tr th:only-of-type {\n",
       "        vertical-align: middle;\n",
       "    }\n",
       "\n",
       "    .dataframe tbody tr th {\n",
       "        vertical-align: top;\n",
       "    }\n",
       "\n",
       "    .dataframe thead th {\n",
       "        text-align: right;\n",
       "    }\n",
       "</style>\n",
       "<table border=\"1\" class=\"dataframe\">\n",
       "  <thead>\n",
       "    <tr style=\"text-align: right;\">\n",
       "      <th></th>\n",
       "      <th>Unnamed: 0</th>\n",
       "      <th>Date</th>\n",
       "      <th>Open</th>\n",
       "      <th>High</th>\n",
       "      <th>Low</th>\n",
       "      <th>Close</th>\n",
       "      <th>Adj Close</th>\n",
       "      <th>Volume</th>\n",
       "    </tr>\n",
       "  </thead>\n",
       "  <tbody>\n",
       "    <tr>\n",
       "      <th>0</th>\n",
       "      <td>0</td>\n",
       "      <td>2010-01-04 00:00:00</td>\n",
       "      <td>79.629997</td>\n",
       "      <td>81.680000</td>\n",
       "      <td>79.629997</td>\n",
       "      <td>81.510002</td>\n",
       "      <td>81.510002</td>\n",
       "      <td>263542</td>\n",
       "    </tr>\n",
       "    <tr>\n",
       "      <th>1</th>\n",
       "      <td>1</td>\n",
       "      <td>2010-01-05 00:00:00</td>\n",
       "      <td>81.629997</td>\n",
       "      <td>82.000000</td>\n",
       "      <td>80.949997</td>\n",
       "      <td>81.769997</td>\n",
       "      <td>81.769997</td>\n",
       "      <td>258887</td>\n",
       "    </tr>\n",
       "    <tr>\n",
       "      <th>2</th>\n",
       "      <td>2</td>\n",
       "      <td>2010-01-06 00:00:00</td>\n",
       "      <td>81.430000</td>\n",
       "      <td>83.519997</td>\n",
       "      <td>80.849998</td>\n",
       "      <td>83.180000</td>\n",
       "      <td>83.180000</td>\n",
       "      <td>370059</td>\n",
       "    </tr>\n",
       "    <tr>\n",
       "      <th>3</th>\n",
       "      <td>3</td>\n",
       "      <td>2010-01-07 00:00:00</td>\n",
       "      <td>83.199997</td>\n",
       "      <td>83.360001</td>\n",
       "      <td>82.260002</td>\n",
       "      <td>82.660004</td>\n",
       "      <td>82.660004</td>\n",
       "      <td>246632</td>\n",
       "    </tr>\n",
       "    <tr>\n",
       "      <th>4</th>\n",
       "      <td>4</td>\n",
       "      <td>2010-01-08 00:00:00</td>\n",
       "      <td>82.650002</td>\n",
       "      <td>83.470001</td>\n",
       "      <td>81.800003</td>\n",
       "      <td>82.750000</td>\n",
       "      <td>82.750000</td>\n",
       "      <td>310377</td>\n",
       "    </tr>\n",
       "  </tbody>\n",
       "</table>\n",
       "</div>"
      ],
      "text/plain": [
       "   Unnamed: 0                 Date       Open       High        Low  \\\n",
       "0           0  2010-01-04 00:00:00  79.629997  81.680000  79.629997   \n",
       "1           1  2010-01-05 00:00:00  81.629997  82.000000  80.949997   \n",
       "2           2  2010-01-06 00:00:00  81.430000  83.519997  80.849998   \n",
       "3           3  2010-01-07 00:00:00  83.199997  83.360001  82.260002   \n",
       "4           4  2010-01-08 00:00:00  82.650002  83.470001  81.800003   \n",
       "\n",
       "       Close  Adj Close  Volume  \n",
       "0  81.510002  81.510002  263542  \n",
       "1  81.769997  81.769997  258887  \n",
       "2  83.180000  83.180000  370059  \n",
       "3  82.660004  82.660004  246632  \n",
       "4  82.750000  82.750000  310377  "
      ]
     },
     "execution_count": 2,
     "metadata": {},
     "output_type": "execute_result"
    }
   ],
   "source": [
    "CL = pd.read_csv(data_path / 'extract_transform' / 'CL=F_1d.csv')\n",
    "CL.head()"
   ]
  },
  {
   "cell_type": "code",
   "execution_count": 3,
   "metadata": {},
   "outputs": [
    {
     "data": {
      "text/html": [
       "<div>\n",
       "<style scoped>\n",
       "    .dataframe tbody tr th:only-of-type {\n",
       "        vertical-align: middle;\n",
       "    }\n",
       "\n",
       "    .dataframe tbody tr th {\n",
       "        vertical-align: top;\n",
       "    }\n",
       "\n",
       "    .dataframe thead th {\n",
       "        text-align: right;\n",
       "    }\n",
       "</style>\n",
       "<table border=\"1\" class=\"dataframe\">\n",
       "  <thead>\n",
       "    <tr style=\"text-align: right;\">\n",
       "      <th></th>\n",
       "      <th>Date</th>\n",
       "      <th>Open</th>\n",
       "      <th>High</th>\n",
       "      <th>Low</th>\n",
       "      <th>Close</th>\n",
       "      <th>Adj Close</th>\n",
       "      <th>Volume</th>\n",
       "    </tr>\n",
       "  </thead>\n",
       "  <tbody>\n",
       "    <tr>\n",
       "      <th>0</th>\n",
       "      <td>2010-01-04 00:00:00</td>\n",
       "      <td>79.629997</td>\n",
       "      <td>81.680000</td>\n",
       "      <td>79.629997</td>\n",
       "      <td>81.510002</td>\n",
       "      <td>81.510002</td>\n",
       "      <td>263542</td>\n",
       "    </tr>\n",
       "    <tr>\n",
       "      <th>1</th>\n",
       "      <td>2010-01-05 00:00:00</td>\n",
       "      <td>81.629997</td>\n",
       "      <td>82.000000</td>\n",
       "      <td>80.949997</td>\n",
       "      <td>81.769997</td>\n",
       "      <td>81.769997</td>\n",
       "      <td>258887</td>\n",
       "    </tr>\n",
       "    <tr>\n",
       "      <th>2</th>\n",
       "      <td>2010-01-06 00:00:00</td>\n",
       "      <td>81.430000</td>\n",
       "      <td>83.519997</td>\n",
       "      <td>80.849998</td>\n",
       "      <td>83.180000</td>\n",
       "      <td>83.180000</td>\n",
       "      <td>370059</td>\n",
       "    </tr>\n",
       "    <tr>\n",
       "      <th>3</th>\n",
       "      <td>2010-01-07 00:00:00</td>\n",
       "      <td>83.199997</td>\n",
       "      <td>83.360001</td>\n",
       "      <td>82.260002</td>\n",
       "      <td>82.660004</td>\n",
       "      <td>82.660004</td>\n",
       "      <td>246632</td>\n",
       "    </tr>\n",
       "    <tr>\n",
       "      <th>4</th>\n",
       "      <td>2010-01-08 00:00:00</td>\n",
       "      <td>82.650002</td>\n",
       "      <td>83.470001</td>\n",
       "      <td>81.800003</td>\n",
       "      <td>82.750000</td>\n",
       "      <td>82.750000</td>\n",
       "      <td>310377</td>\n",
       "    </tr>\n",
       "  </tbody>\n",
       "</table>\n",
       "</div>"
      ],
      "text/plain": [
       "                  Date       Open       High        Low      Close  Adj Close  \\\n",
       "0  2010-01-04 00:00:00  79.629997  81.680000  79.629997  81.510002  81.510002   \n",
       "1  2010-01-05 00:00:00  81.629997  82.000000  80.949997  81.769997  81.769997   \n",
       "2  2010-01-06 00:00:00  81.430000  83.519997  80.849998  83.180000  83.180000   \n",
       "3  2010-01-07 00:00:00  83.199997  83.360001  82.260002  82.660004  82.660004   \n",
       "4  2010-01-08 00:00:00  82.650002  83.470001  81.800003  82.750000  82.750000   \n",
       "\n",
       "   Volume  \n",
       "0  263542  \n",
       "1  258887  \n",
       "2  370059  \n",
       "3  246632  \n",
       "4  310377  "
      ]
     },
     "execution_count": 3,
     "metadata": {},
     "output_type": "execute_result"
    }
   ],
   "source": [
    "CL = CL.drop(['Unnamed: 0'], axis=1)\n",
    "CL.head()"
   ]
  },
  {
   "cell_type": "code",
   "execution_count": 4,
   "metadata": {},
   "outputs": [
    {
     "name": "stdout",
     "output_type": "stream",
     "text": [
      "<class 'pandas.core.frame.DataFrame'>\n",
      "RangeIndex: 40424 entries, 0 to 40423\n",
      "Data columns (total 7 columns):\n",
      " #   Column     Non-Null Count  Dtype  \n",
      "---  ------     --------------  -----  \n",
      " 0   Date       40424 non-null  object \n",
      " 1   Open       40424 non-null  float64\n",
      " 2   High       40424 non-null  float64\n",
      " 3   Low        40424 non-null  float64\n",
      " 4   Close      40424 non-null  float64\n",
      " 5   Adj Close  40424 non-null  float64\n",
      " 6   Volume     40424 non-null  int64  \n",
      "dtypes: float64(5), int64(1), object(1)\n",
      "memory usage: 2.2+ MB\n"
     ]
    }
   ],
   "source": [
    "CL.info()"
   ]
  },
  {
   "cell_type": "code",
   "execution_count": 5,
   "metadata": {},
   "outputs": [
    {
     "data": {
      "text/plain": [
       "[<matplotlib.lines.Line2D at 0x21ed436a020>]"
      ]
     },
     "execution_count": 5,
     "metadata": {},
     "output_type": "execute_result"
    },
    {
     "data": {
      "image/png": "[encoded data removed]",
      "text/plain": [
       "<Figure size 640x480 with 1 Axes>"
      ]
     },
     "metadata": {},
     "output_type": "display_data"
    }
   ],
   "source": [
    "plt.plot(CL['Close'])"
   ]
  },
  {
   "cell_type": "code",
   "execution_count": 6,
   "metadata": {},
   "outputs": [
    {
     "name": "stderr",
     "output_type": "stream",
     "text": [
      "C:\\Users\\kimo3\\AppData\\Local\\Temp\\ipykernel_28312\\2920925342.py:1: DtypeWarning: Columns (0) have mixed types. Specify dtype option on import or set low_memory=False.\n",
      "  merged_df = pd.read_csv(data_path / 'processed' / 'merged_df.csv')\n"
     ]
    },
    {
     "data": {
      "text/html": [
       "<div>\n",
       "<style scoped>\n",
       "    .dataframe tbody tr th:only-of-type {\n",
       "        vertical-align: middle;\n",
       "    }\n",
       "\n",
       "    .dataframe tbody tr th {\n",
       "        vertical-align: top;\n",
       "    }\n",
       "\n",
       "    .dataframe thead th {\n",
       "        text-align: right;\n",
       "    }\n",
       "</style>\n",
       "<table border=\"1\" class=\"dataframe\">\n",
       "  <thead>\n",
       "    <tr style=\"text-align: right;\">\n",
       "      <th></th>\n",
       "      <th>Date</th>\n",
       "      <th>Open</th>\n",
       "      <th>High</th>\n",
       "      <th>Low</th>\n",
       "      <th>Close</th>\n",
       "      <th>Adj Close</th>\n",
       "      <th>Volume</th>\n",
       "      <th>Name</th>\n",
       "      <th>Datetime</th>\n",
       "    </tr>\n",
       "  </thead>\n",
       "  <tbody>\n",
       "    <tr>\n",
       "      <th>0</th>\n",
       "      <td>2010-01-04 00:00:00</td>\n",
       "      <td>3288.0</td>\n",
       "      <td>3311.0</td>\n",
       "      <td>3245.0</td>\n",
       "      <td>3256.0</td>\n",
       "      <td>3256.0</td>\n",
       "      <td>6405</td>\n",
       "      <td>CC=F</td>\n",
       "      <td>NaN</td>\n",
       "    </tr>\n",
       "    <tr>\n",
       "      <th>1</th>\n",
       "      <td>2010-01-05 00:00:00</td>\n",
       "      <td>3250.0</td>\n",
       "      <td>3333.0</td>\n",
       "      <td>3246.0</td>\n",
       "      <td>3321.0</td>\n",
       "      <td>3321.0</td>\n",
       "      <td>6831</td>\n",
       "      <td>CC=F</td>\n",
       "      <td>NaN</td>\n",
       "    </tr>\n",
       "    <tr>\n",
       "      <th>2</th>\n",
       "      <td>2010-01-06 00:00:00</td>\n",
       "      <td>3300.0</td>\n",
       "      <td>3306.0</td>\n",
       "      <td>3272.0</td>\n",
       "      <td>3292.0</td>\n",
       "      <td>3292.0</td>\n",
       "      <td>6481</td>\n",
       "      <td>CC=F</td>\n",
       "      <td>NaN</td>\n",
       "    </tr>\n",
       "    <tr>\n",
       "      <th>3</th>\n",
       "      <td>2010-01-07 00:00:00</td>\n",
       "      <td>3278.0</td>\n",
       "      <td>3313.0</td>\n",
       "      <td>3257.0</td>\n",
       "      <td>3309.0</td>\n",
       "      <td>3309.0</td>\n",
       "      <td>6957</td>\n",
       "      <td>CC=F</td>\n",
       "      <td>NaN</td>\n",
       "    </tr>\n",
       "    <tr>\n",
       "      <th>4</th>\n",
       "      <td>2010-01-08 00:00:00</td>\n",
       "      <td>3281.0</td>\n",
       "      <td>3326.0</td>\n",
       "      <td>3281.0</td>\n",
       "      <td>3296.0</td>\n",
       "      <td>3296.0</td>\n",
       "      <td>4606</td>\n",
       "      <td>CC=F</td>\n",
       "      <td>NaN</td>\n",
       "    </tr>\n",
       "  </tbody>\n",
       "</table>\n",
       "</div>"
      ],
      "text/plain": [
       "                  Date    Open    High     Low   Close  Adj Close  Volume  \\\n",
       "0  2010-01-04 00:00:00  3288.0  3311.0  3245.0  3256.0     3256.0    6405   \n",
       "1  2010-01-05 00:00:00  3250.0  3333.0  3246.0  3321.0     3321.0    6831   \n",
       "2  2010-01-06 00:00:00  3300.0  3306.0  3272.0  3292.0     3292.0    6481   \n",
       "3  2010-01-07 00:00:00  3278.0  3313.0  3257.0  3309.0     3309.0    6957   \n",
       "4  2010-01-08 00:00:00  3281.0  3326.0  3281.0  3296.0     3296.0    4606   \n",
       "\n",
       "   Name Datetime  \n",
       "0  CC=F      NaN  \n",
       "1  CC=F      NaN  \n",
       "2  CC=F      NaN  \n",
       "3  CC=F      NaN  \n",
       "4  CC=F      NaN  "
      ]
     },
     "execution_count": 6,
     "metadata": {},
     "output_type": "execute_result"
    }
   ],
   "source": [
    "merged_df = pd.read_csv(data_path / 'processed' / 'merged_df.csv')\n",
    "\n",
    "merged_df.head()"
   ]
  },
  {
   "cell_type": "code",
   "execution_count": 7,
   "metadata": {},
   "outputs": [
    {
     "data": {
      "text/plain": [
       "array(['CC=F', 'CL=F', 'CT=F', 'GC=F', 'HG=F', 'HO=F', 'KC=F', 'MCD=F',\n",
       "       'NG=F', 'OJ=F', 'PA=F', 'PL=F', 'RB=F', 'SB=F', 'SI=F', 'SPY',\n",
       "       'ZC=F', 'ZM=F', 'ZS=F', 'ZW=F'], dtype=object)"
      ]
     },
     "execution_count": 7,
     "metadata": {},
     "output_type": "execute_result"
    }
   ],
   "source": [
    "merged_df['Name'].unique()"
   ]
  },
  {
   "cell_type": "code",
   "execution_count": 8,
   "metadata": {},
   "outputs": [
    {
     "data": {
      "text/plain": [
       "[<matplotlib.lines.Line2D at 0x21edb959ae0>]"
      ]
     },
     "execution_count": 8,
     "metadata": {},
     "output_type": "execute_result"
    },
    {
     "data": {
      "image/png": "[encoded data removed]",
      "text/plain": [
       "<Figure size 640x480 with 1 Axes>"
      ]
     },
     "metadata": {},
     "output_type": "display_data"
    }
   ],
   "source": [
    "plt.plot(merged_df.loc[merged_df['Name'] == 'CL=F', 'Close'])"
   ]
  },
  {
   "cell_type": "code",
   "execution_count": 9,
   "metadata": {},
   "outputs": [
    {
     "name": "stdout",
     "output_type": "stream",
     "text": [
      "<class 'pandas.core.frame.DataFrame'>\n",
      "RangeIndex: 2423253 entries, 0 to 2423252\n",
      "Data columns (total 9 columns):\n",
      " #   Column     Dtype  \n",
      "---  ------     -----  \n",
      " 0   Date       object \n",
      " 1   Open       float64\n",
      " 2   High       float64\n",
      " 3   Low        float64\n",
      " 4   Close      float64\n",
      " 5   Adj Close  float64\n",
      " 6   Volume     int64  \n",
      " 7   Name       object \n",
      " 8   Datetime   object \n",
      "dtypes: float64(5), int64(1), object(3)\n",
      "memory usage: 166.4+ MB\n"
     ]
    }
   ],
   "source": [
    "merged_df.info()"
   ]
  }
 ],
 "metadata": {
  "kernelspec": {
   "display_name": "Python 3",
   "language": "python",
   "name": "python3"
  },
  "language_info": {
   "codemirror_mode": {
    "name": "ipython",
    "version": 3
   },
   "file_extension": ".py",
   "mimetype": "text/x-python",
   "name": "python",
   "nbconvert_exporter": "python",
   "pygments_lexer": "ipython3",
   "version": "3.10.11"
  }
 },
 "nbformat": 4,
 "nbformat_minor": 2
}
