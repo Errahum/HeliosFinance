{
 "cells": [
  {
   "cell_type": "markdown",
   "metadata": {},
   "source": [
    "Created by Errahum https://github.com/Errahum\n",
    "\n",
    "Linkedin: https://www.linkedin.com/in/erahum/\n",
    "\n",
    "Mail: mail@erahum.com\n",
    "\n",
    "Youtube: https://www.youtube.com/@Errahum"
   ]
  },
  {
   "cell_type": "markdown",
   "metadata": {},
   "source": [
    "# data processing"
   ]
  },
  {
   "cell_type": "code",
   "execution_count": 35,
   "metadata": {},
   "outputs": [],
   "source": [
    "import numpy as np\n",
    "import matplotlib.pyplot as plt\n",
    "import pandas as pd\n",
    "import sys\n",
    "from pathlib import Path\n",
    "import importlib.util\n",
    "\n",
    "# parents[2] refers to the grandparent directory (two levels up)\n",
    "def dynamic_import(module_name, parent_levels_up=2):\n",
    "    # Get the absolute path to the parent directory\n",
    "    current_dir = Path.cwd()\n",
    "    parent_dir = current_dir.parents[parent_levels_up]\n",
    "    \n",
    "    # Define the path to the module\n",
    "    file_path = parent_dir / 'src' / 'data_management' / f'{module_name}.py'\n",
    "    data_path = parent_dir / 'data'\n",
    "    \n",
    "    # Dynamically import the module\n",
    "    spec = importlib.util.spec_from_file_location(module_name, str(file_path))\n",
    "    module = importlib.util.module_from_spec(spec)\n",
    "    sys.modules[module_name] = module\n",
    "    spec.loader.exec_module(module)\n",
    "    \n",
    "    return module, data_path\n",
    "\n",
    "# Import the notebook_data_tools module\n",
    "notebook_data_tools, data_path = dynamic_import('notebook_data_tools')\n",
    "\n",
    "# Use the imported functions\n",
    "impute_df = notebook_data_tools.impute_df\n",
    "delete_duplicates = notebook_data_tools.delete_duplicates\n",
    "log_return_df = notebook_data_tools.log_return_df"
   ]
  },
  {
   "cell_type": "code",
   "execution_count": 36,
   "metadata": {},
   "outputs": [
    {
     "data": {
      "text/html": [
       "<div>\n",
       "<style scoped>\n",
       "    .dataframe tbody tr th:only-of-type {\n",
       "        vertical-align: middle;\n",
       "    }\n",
       "\n",
       "    .dataframe tbody tr th {\n",
       "        vertical-align: top;\n",
       "    }\n",
       "\n",
       "    .dataframe thead th {\n",
       "        text-align: right;\n",
       "    }\n",
       "</style>\n",
       "<table border=\"1\" class=\"dataframe\">\n",
       "  <thead>\n",
       "    <tr style=\"text-align: right;\">\n",
       "      <th></th>\n",
       "      <th>Unnamed: 0</th>\n",
       "      <th>Date</th>\n",
       "      <th>Open</th>\n",
       "      <th>High</th>\n",
       "      <th>Low</th>\n",
       "      <th>Close</th>\n",
       "      <th>Adj Close</th>\n",
       "      <th>Volume</th>\n",
       "    </tr>\n",
       "  </thead>\n",
       "  <tbody>\n",
       "    <tr>\n",
       "      <th>0</th>\n",
       "      <td>0</td>\n",
       "      <td>2010-01-04</td>\n",
       "      <td>79.629997</td>\n",
       "      <td>81.680000</td>\n",
       "      <td>79.629997</td>\n",
       "      <td>81.510002</td>\n",
       "      <td>81.510002</td>\n",
       "      <td>263542</td>\n",
       "    </tr>\n",
       "    <tr>\n",
       "      <th>1</th>\n",
       "      <td>1</td>\n",
       "      <td>2010-01-05</td>\n",
       "      <td>81.629997</td>\n",
       "      <td>82.000000</td>\n",
       "      <td>80.949997</td>\n",
       "      <td>81.769997</td>\n",
       "      <td>81.769997</td>\n",
       "      <td>258887</td>\n",
       "    </tr>\n",
       "    <tr>\n",
       "      <th>2</th>\n",
       "      <td>2</td>\n",
       "      <td>2010-01-06</td>\n",
       "      <td>81.430000</td>\n",
       "      <td>83.519997</td>\n",
       "      <td>80.849998</td>\n",
       "      <td>83.180000</td>\n",
       "      <td>83.180000</td>\n",
       "      <td>370059</td>\n",
       "    </tr>\n",
       "    <tr>\n",
       "      <th>3</th>\n",
       "      <td>3</td>\n",
       "      <td>2010-01-07</td>\n",
       "      <td>83.199997</td>\n",
       "      <td>83.360001</td>\n",
       "      <td>82.260002</td>\n",
       "      <td>82.660004</td>\n",
       "      <td>82.660004</td>\n",
       "      <td>246632</td>\n",
       "    </tr>\n",
       "    <tr>\n",
       "      <th>4</th>\n",
       "      <td>4</td>\n",
       "      <td>2010-01-08</td>\n",
       "      <td>82.650002</td>\n",
       "      <td>83.470001</td>\n",
       "      <td>81.800003</td>\n",
       "      <td>82.750000</td>\n",
       "      <td>82.750000</td>\n",
       "      <td>310377</td>\n",
       "    </tr>\n",
       "  </tbody>\n",
       "</table>\n",
       "</div>"
      ],
      "text/plain": [
       "   Unnamed: 0        Date       Open       High        Low      Close  \\\n",
       "0           0  2010-01-04  79.629997  81.680000  79.629997  81.510002   \n",
       "1           1  2010-01-05  81.629997  82.000000  80.949997  81.769997   \n",
       "2           2  2010-01-06  81.430000  83.519997  80.849998  83.180000   \n",
       "3           3  2010-01-07  83.199997  83.360001  82.260002  82.660004   \n",
       "4           4  2010-01-08  82.650002  83.470001  81.800003  82.750000   \n",
       "\n",
       "   Adj Close  Volume  \n",
       "0  81.510002  263542  \n",
       "1  81.769997  258887  \n",
       "2  83.180000  370059  \n",
       "3  82.660004  246632  \n",
       "4  82.750000  310377  "
      ]
     },
     "execution_count": 36,
     "metadata": {},
     "output_type": "execute_result"
    }
   ],
   "source": [
    "CL = pd.read_csv(data_path / 'extract_transform' / 'CL=F_1d.csv')\n",
    "CL.head()"
   ]
  },
  {
   "cell_type": "code",
   "execution_count": 37,
   "metadata": {},
   "outputs": [
    {
     "data": {
      "text/html": [
       "<div>\n",
       "<style scoped>\n",
       "    .dataframe tbody tr th:only-of-type {\n",
       "        vertical-align: middle;\n",
       "    }\n",
       "\n",
       "    .dataframe tbody tr th {\n",
       "        vertical-align: top;\n",
       "    }\n",
       "\n",
       "    .dataframe thead th {\n",
       "        text-align: right;\n",
       "    }\n",
       "</style>\n",
       "<table border=\"1\" class=\"dataframe\">\n",
       "  <thead>\n",
       "    <tr style=\"text-align: right;\">\n",
       "      <th></th>\n",
       "      <th>Date</th>\n",
       "      <th>Open</th>\n",
       "      <th>High</th>\n",
       "      <th>Low</th>\n",
       "      <th>Close</th>\n",
       "      <th>Adj Close</th>\n",
       "      <th>Volume</th>\n",
       "    </tr>\n",
       "  </thead>\n",
       "  <tbody>\n",
       "    <tr>\n",
       "      <th>0</th>\n",
       "      <td>2010-01-04</td>\n",
       "      <td>79.629997</td>\n",
       "      <td>81.680000</td>\n",
       "      <td>79.629997</td>\n",
       "      <td>81.510002</td>\n",
       "      <td>81.510002</td>\n",
       "      <td>263542</td>\n",
       "    </tr>\n",
       "    <tr>\n",
       "      <th>1</th>\n",
       "      <td>2010-01-05</td>\n",
       "      <td>81.629997</td>\n",
       "      <td>82.000000</td>\n",
       "      <td>80.949997</td>\n",
       "      <td>81.769997</td>\n",
       "      <td>81.769997</td>\n",
       "      <td>258887</td>\n",
       "    </tr>\n",
       "    <tr>\n",
       "      <th>2</th>\n",
       "      <td>2010-01-06</td>\n",
       "      <td>81.430000</td>\n",
       "      <td>83.519997</td>\n",
       "      <td>80.849998</td>\n",
       "      <td>83.180000</td>\n",
       "      <td>83.180000</td>\n",
       "      <td>370059</td>\n",
       "    </tr>\n",
       "    <tr>\n",
       "      <th>3</th>\n",
       "      <td>2010-01-07</td>\n",
       "      <td>83.199997</td>\n",
       "      <td>83.360001</td>\n",
       "      <td>82.260002</td>\n",
       "      <td>82.660004</td>\n",
       "      <td>82.660004</td>\n",
       "      <td>246632</td>\n",
       "    </tr>\n",
       "    <tr>\n",
       "      <th>4</th>\n",
       "      <td>2010-01-08</td>\n",
       "      <td>82.650002</td>\n",
       "      <td>83.470001</td>\n",
       "      <td>81.800003</td>\n",
       "      <td>82.750000</td>\n",
       "      <td>82.750000</td>\n",
       "      <td>310377</td>\n",
       "    </tr>\n",
       "  </tbody>\n",
       "</table>\n",
       "</div>"
      ],
      "text/plain": [
       "         Date       Open       High        Low      Close  Adj Close  Volume\n",
       "0  2010-01-04  79.629997  81.680000  79.629997  81.510002  81.510002  263542\n",
       "1  2010-01-05  81.629997  82.000000  80.949997  81.769997  81.769997  258887\n",
       "2  2010-01-06  81.430000  83.519997  80.849998  83.180000  83.180000  370059\n",
       "3  2010-01-07  83.199997  83.360001  82.260002  82.660004  82.660004  246632\n",
       "4  2010-01-08  82.650002  83.470001  81.800003  82.750000  82.750000  310377"
      ]
     },
     "execution_count": 37,
     "metadata": {},
     "output_type": "execute_result"
    }
   ],
   "source": [
    "CL = CL.drop(['Unnamed: 0'], axis=1)\n",
    "CL.head()"
   ]
  },
  {
   "cell_type": "code",
   "execution_count": 38,
   "metadata": {},
   "outputs": [
    {
     "name": "stdout",
     "output_type": "stream",
     "text": [
      "<class 'pandas.core.frame.DataFrame'>\n",
      "RangeIndex: 3694 entries, 0 to 3693\n",
      "Data columns (total 7 columns):\n",
      " #   Column     Non-Null Count  Dtype  \n",
      "---  ------     --------------  -----  \n",
      " 0   Date       3694 non-null   object \n",
      " 1   Open       3694 non-null   float64\n",
      " 2   High       3694 non-null   float64\n",
      " 3   Low        3694 non-null   float64\n",
      " 4   Close      3694 non-null   float64\n",
      " 5   Adj Close  3694 non-null   float64\n",
      " 6   Volume     3694 non-null   int64  \n",
      "dtypes: float64(5), int64(1), object(1)\n",
      "memory usage: 202.1+ KB\n"
     ]
    }
   ],
   "source": [
    "CL.info()"
   ]
  },
  {
   "cell_type": "code",
   "execution_count": 39,
   "metadata": {},
   "outputs": [
    {
     "data": {
      "text/plain": [
       "[<matplotlib.lines.Line2D at 0x23ac240e0e0>]"
      ]
     },
     "execution_count": 39,
     "metadata": {},
     "output_type": "execute_result"
    },
    {
     "data": {
      "image/png": "[encoded data removed]",
      "text/plain": [
       "<Figure size 640x480 with 1 Axes>"
      ]
     },
     "metadata": {},
     "output_type": "display_data"
    }
   ],
   "source": [
    "plt.plot(CL['Close'])"
   ]
  },
  {
   "cell_type": "code",
   "execution_count": 40,
   "metadata": {},
   "outputs": [
    {
     "data": {
      "text/html": [
       "<div>\n",
       "<style scoped>\n",
       "    .dataframe tbody tr th:only-of-type {\n",
       "        vertical-align: middle;\n",
       "    }\n",
       "\n",
       "    .dataframe tbody tr th {\n",
       "        vertical-align: top;\n",
       "    }\n",
       "\n",
       "    .dataframe thead th {\n",
       "        text-align: right;\n",
       "    }\n",
       "</style>\n",
       "<table border=\"1\" class=\"dataframe\">\n",
       "  <thead>\n",
       "    <tr style=\"text-align: right;\">\n",
       "      <th></th>\n",
       "      <th>Date</th>\n",
       "      <th>Open</th>\n",
       "      <th>High</th>\n",
       "      <th>Low</th>\n",
       "      <th>Close</th>\n",
       "      <th>Adj Close</th>\n",
       "      <th>Volume</th>\n",
       "      <th>Name</th>\n",
       "      <th>Datetime</th>\n",
       "    </tr>\n",
       "  </thead>\n",
       "  <tbody>\n",
       "    <tr>\n",
       "      <th>0</th>\n",
       "      <td>2010-01-04</td>\n",
       "      <td>3288.0</td>\n",
       "      <td>3311.0</td>\n",
       "      <td>3245.0</td>\n",
       "      <td>3256.0</td>\n",
       "      <td>3256.0</td>\n",
       "      <td>6405.0</td>\n",
       "      <td>CC=F</td>\n",
       "      <td>NaN</td>\n",
       "    </tr>\n",
       "    <tr>\n",
       "      <th>1</th>\n",
       "      <td>2010-01-05</td>\n",
       "      <td>3250.0</td>\n",
       "      <td>3333.0</td>\n",
       "      <td>3246.0</td>\n",
       "      <td>3321.0</td>\n",
       "      <td>3321.0</td>\n",
       "      <td>6831.0</td>\n",
       "      <td>CC=F</td>\n",
       "      <td>NaN</td>\n",
       "    </tr>\n",
       "    <tr>\n",
       "      <th>2</th>\n",
       "      <td>2010-01-06</td>\n",
       "      <td>3300.0</td>\n",
       "      <td>3306.0</td>\n",
       "      <td>3272.0</td>\n",
       "      <td>3292.0</td>\n",
       "      <td>3292.0</td>\n",
       "      <td>6481.0</td>\n",
       "      <td>CC=F</td>\n",
       "      <td>NaN</td>\n",
       "    </tr>\n",
       "    <tr>\n",
       "      <th>3</th>\n",
       "      <td>2010-01-07</td>\n",
       "      <td>3278.0</td>\n",
       "      <td>3313.0</td>\n",
       "      <td>3257.0</td>\n",
       "      <td>3309.0</td>\n",
       "      <td>3309.0</td>\n",
       "      <td>6957.0</td>\n",
       "      <td>CC=F</td>\n",
       "      <td>NaN</td>\n",
       "    </tr>\n",
       "    <tr>\n",
       "      <th>4</th>\n",
       "      <td>2010-01-08</td>\n",
       "      <td>3281.0</td>\n",
       "      <td>3326.0</td>\n",
       "      <td>3281.0</td>\n",
       "      <td>3296.0</td>\n",
       "      <td>3296.0</td>\n",
       "      <td>4606.0</td>\n",
       "      <td>CC=F</td>\n",
       "      <td>NaN</td>\n",
       "    </tr>\n",
       "  </tbody>\n",
       "</table>\n",
       "</div>"
      ],
      "text/plain": [
       "         Date    Open    High     Low   Close  Adj Close  Volume  Name  \\\n",
       "0  2010-01-04  3288.0  3311.0  3245.0  3256.0     3256.0  6405.0  CC=F   \n",
       "1  2010-01-05  3250.0  3333.0  3246.0  3321.0     3321.0  6831.0  CC=F   \n",
       "2  2010-01-06  3300.0  3306.0  3272.0  3292.0     3292.0  6481.0  CC=F   \n",
       "3  2010-01-07  3278.0  3313.0  3257.0  3309.0     3309.0  6957.0  CC=F   \n",
       "4  2010-01-08  3281.0  3326.0  3281.0  3296.0     3296.0  4606.0  CC=F   \n",
       "\n",
       "  Datetime  \n",
       "0      NaN  \n",
       "1      NaN  \n",
       "2      NaN  \n",
       "3      NaN  \n",
       "4      NaN  "
      ]
     },
     "execution_count": 40,
     "metadata": {},
     "output_type": "execute_result"
    }
   ],
   "source": [
    "merged_df = pd.read_csv(data_path / 'processed' / 'merged_df.csv')\n",
    "\n",
    "merged_df.head()"
   ]
  },
  {
   "cell_type": "code",
   "execution_count": 41,
   "metadata": {},
   "outputs": [
    {
     "data": {
      "text/plain": [
       "array(['CC=F', 'CL=F', 'CT=F', 'GC=F', 'HG=F', 'HO=F', 'KC=F', 'MCD=F',\n",
       "       'NG=F', 'OJ=F', 'PA=F', 'PL=F', 'RB=F', 'SB=F', 'SI=F', 'SPY',\n",
       "       'ZC=F', 'ZM=F', 'ZS=F', 'ZW=F'], dtype=object)"
      ]
     },
     "execution_count": 41,
     "metadata": {},
     "output_type": "execute_result"
    }
   ],
   "source": [
    "merged_df['Name'].unique()"
   ]
  },
  {
   "cell_type": "code",
   "execution_count": 42,
   "metadata": {},
   "outputs": [
    {
     "data": {
      "text/plain": [
       "[<matplotlib.lines.Line2D at 0x23ac285a260>]"
      ]
     },
     "execution_count": 42,
     "metadata": {},
     "output_type": "execute_result"
    },
    {
     "data": {
      "image/png": "[encoded data removed]",
      "text/plain": [
       "<Figure size 640x480 with 1 Axes>"
      ]
     },
     "metadata": {},
     "output_type": "display_data"
    }
   ],
   "source": [
    "plt.plot(merged_df.loc[merged_df['Name'] == 'CL=F', 'Close'])"
   ]
  },
  {
   "cell_type": "code",
   "execution_count": 43,
   "metadata": {},
   "outputs": [
    {
     "name": "stdout",
     "output_type": "stream",
     "text": [
      "<class 'pandas.core.frame.DataFrame'>\n",
      "RangeIndex: 254496 entries, 0 to 254495\n",
      "Data columns (total 9 columns):\n",
      " #   Column     Non-Null Count   Dtype  \n",
      "---  ------     --------------   -----  \n",
      " 0   Date       72498 non-null   object \n",
      " 1   Open       254496 non-null  float64\n",
      " 2   High       254496 non-null  float64\n",
      " 3   Low        254496 non-null  float64\n",
      " 4   Close      254496 non-null  float64\n",
      " 5   Adj Close  254496 non-null  float64\n",
      " 6   Volume     254496 non-null  float64\n",
      " 7   Name       254496 non-null  object \n",
      " 8   Datetime   181998 non-null  object \n",
      "dtypes: float64(6), object(3)\n",
      "memory usage: 17.5+ MB\n"
     ]
    }
   ],
   "source": [
    "merged_df.info()"
   ]
  },
  {
   "cell_type": "code",
   "execution_count": 44,
   "metadata": {},
   "outputs": [
    {
     "data": {
      "text/plain": [
       "0"
      ]
     },
     "execution_count": 44,
     "metadata": {},
     "output_type": "execute_result"
    }
   ],
   "source": [
    "CL['Date'].duplicated().sum()"
   ]
  },
  {
   "cell_type": "code",
   "execution_count": 50,
   "metadata": {},
   "outputs": [
    {
     "data": {
      "text/plain": [
       "0"
      ]
     },
     "execution_count": 50,
     "metadata": {},
     "output_type": "execute_result"
    }
   ],
   "source": [
    "CL.index.duplicated().sum()"
   ]
  },
  {
   "cell_type": "code",
   "execution_count": 53,
   "metadata": {},
   "outputs": [
    {
     "data": {
      "text/plain": [
       "0"
      ]
     },
     "execution_count": 53,
     "metadata": {},
     "output_type": "execute_result"
    }
   ],
   "source": [
    "CL.duplicated().sum()"
   ]
  },
  {
   "cell_type": "markdown",
   "metadata": {},
   "source": [
    "# Stationary"
   ]
  },
  {
   "cell_type": "code",
   "execution_count": 45,
   "metadata": {},
   "outputs": [],
   "source": [
    "from statsmodels.tsa.stattools import adfuller"
   ]
  },
  {
   "cell_type": "code",
   "execution_count": null,
   "metadata": {},
   "outputs": [],
   "source": [
    "CL['log_return'] = log_return_df(CL['Close'])"
   ]
  },
  {
   "cell_type": "code",
   "execution_count": 47,
   "metadata": {},
   "outputs": [
    {
     "data": {
      "text/plain": [
       "<Axes: >"
      ]
     },
     "execution_count": 47,
     "metadata": {},
     "output_type": "execute_result"
    },
    {
     "data": {
      "image/png": "[encoded data removed]",
      "text/plain": [
       "<Figure size 640x480 with 1 Axes>"
      ]
     },
     "metadata": {},
     "output_type": "display_data"
    }
   ],
   "source": [
    "CL['log_return'].plot()"
   ]
  },
  {
   "cell_type": "code",
   "execution_count": 48,
   "metadata": {},
   "outputs": [],
   "source": [
    "adf = adfuller(CL['log_return'].dropna())"
   ]
  },
  {
   "cell_type": "code",
   "execution_count": 49,
   "metadata": {},
   "outputs": [
    {
     "data": {
      "text/plain": [
       "(-10.927148031634982,\n",
       " 1.0034917144303055e-19,\n",
       " 24,\n",
       " 3666,\n",
       " {'1%': -3.432135020388135,\n",
       "  '5%': -2.862328722835932,\n",
       "  '10%': -2.5671898489444147},\n",
       " -16419.37694608866)"
      ]
     },
     "execution_count": 49,
     "metadata": {},
     "output_type": "execute_result"
    }
   ],
   "source": [
    "adf"
   ]
  },
  {
   "cell_type": "markdown",
   "metadata": {},
   "source": [
    "p-value: 0.0\n",
    "p-value is < 0.5\n",
    "\n",
    "reject the null hypothesis that the time series has a unit root (is not stationary). Therefore, you can conclude that the time series is stationary."
   ]
  }
 ],
 "metadata": {
  "kernelspec": {
   "display_name": "Python 3",
   "language": "python",
   "name": "python3"
  },
  "language_info": {
   "codemirror_mode": {
    "name": "ipython",
    "version": 3
   },
   "file_extension": ".py",
   "mimetype": "text/x-python",
   "name": "python",
   "nbconvert_exporter": "python",
   "pygments_lexer": "ipython3",
   "version": "3.10.2"
  }
 },
 "nbformat": 4,
 "nbformat_minor": 2
}
